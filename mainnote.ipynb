{
 "cells": [
  {
   "cell_type": "code",
   "execution_count": 1,
   "metadata": {
    "hide_input": true
   },
   "outputs": [],
   "source": [
    "from IPython.display import Latex, Math, display_latex, Markdown, display, display_markdown\n",
    "from matrix2latex import matrix2latex\n",
    "from math import log10\n",
    "import operator \n",
    "import functools\n",
    "\n",
    "class LatexList(list):\n",
    "    def __init__(self, *pargs, letter='L', start=1, **kargs):\n",
    "        list.__init__(self, *pargs, **kargs)\n",
    "        self._letter = letter\n",
    "        self._start = start\n",
    "        \n",
    "    def letter(self, index, mathEnv=True):\n",
    "        letterFormat = '$%s_{%s}$' if mathEnv else '%s_{%s}'\n",
    "        return letterFormat % (self._letter, index + self._start)\n",
    "    \n",
    "    def entry(self, index, mathEnv=True):\n",
    "        return '%s &mdash; %s' % (self.letter(index, mathEnv), self[index])\n",
    "    \n",
    "    def __str__(self, separator=';', mathEnv=True):\n",
    "        entries = (separator + '\\n').join('* %s' % (self.entry(i, mathEnv)) for i in range(len(self)))\n",
    "        return entries + '.'\n",
    "    \n",
    "def postfixNumber(n):\n",
    "    if log10(n) >= 6:\n",
    "        return str(int(n / 1e6)) + 'M'\n",
    "    elif log10(n) >= 3:\n",
    "        return str(int(n / 1e3)) + 'K'\n",
    "    else:\n",
    "        return str(int(n))\n",
    "    \n",
    "def headedMatrix(sourceMatrix, environment='matrix', *pargs, headerRowList, headerColumnList, **kargs):\n",
    "    headerColumn = [headerColumnList.letter(i, False) for i in range(len(headerColumnList))] or None\n",
    "    headerRow = [headerRowList.letter(i, False) for i in range(len(headerRowList))] or None\n",
    "    return matrix2latex(sourceMatrix, None, \n",
    "                        environment, \n",
    "                        *pargs, \n",
    "                        headerRow=headerRow, \n",
    "                        headerColumn=headerColumn,\n",
    "                        **kargs)\n",
    "\n",
    "def product(iterable):\n",
    "    return functools.reduce(operator.mul, iterable)\n",
    "\n",
    "def inverseProduct(iterable, base=1):\n",
    "    return product((base - value) for value in iterable)"
   ]
  },
  {
   "cell_type": "markdown",
   "metadata": {},
   "source": [
    "# Пример определения актуальных угроз безопасности информации в ключевых системах информационной структурой. \n",
    "\n",
    "## 1. Защищаемые ресурсы. \n",
    "\n",
    "В первую очередь необходимо определить, какие информационные ресурсы мы защищаем.\n",
    "Конкретный информационный ресурс будем обозначать как $R_i$, где $i$ - номер информационного ресурса.\n",
    "\n",
    "В рамках данного примера мы защищаем вымышленный вебсервер, предоставляющий важную информацию пользователям (например информацию об их штрафах за неправильную парковку).\n",
    "Ниже приведён список защищаемых ресурсов:"
   ]
  },
  {
   "cell_type": "code",
   "execution_count": 2,
   "metadata": {},
   "outputs": [
    {
     "data": {
      "text/markdown": [
       "* $R_{1}$ &mdash; база данных вебсервера;\n",
       "* $R_{2}$ &mdash; бухгалтерский отчёт за май месяц 2014 года;\n",
       "* $R_{3}$ &mdash; ресурсы вебсервера, предоставляемые пользователям."
      ],
      "text/plain": [
       "<IPython.core.display.Markdown object>"
      ]
     },
     "execution_count": 2,
     "metadata": {},
     "output_type": "execute_result"
    }
   ],
   "source": [
    "resources = LatexList([\n",
    "    'база данных вебсервера',\n",
    "    'бухгалтерский отчёт за май месяц 2014 года',\n",
    "    'ресурсы вебсервера, предоставляемые пользователям'\n",
    "    ], letter='R')\n",
    "\n",
    "Markdown(str(resources))"
   ]
  },
  {
   "cell_type": "markdown",
   "metadata": {},
   "source": [
    "## 2. Угрозы.\n",
    "\n",
    "В отношении вебсервера действует огромное количество различных угроз. Для эффективной защиты информационных ресурсов, мы должны определить какие из этих угроз наиболее актуальных, от каких необходимо защищаться, а какими угрозами возможно пренебречь. Конкретная угроза обозначается как $T_i$.\n",
    "\n",
    "Далее приведён список возможных угроз, среди которых будет проводиться актуализация:"
   ]
  },
  {
   "cell_type": "code",
   "execution_count": 3,
   "metadata": {},
   "outputs": [
    {
     "data": {
      "text/markdown": [
       "* $T_{1}$ &mdash; угроза блокировки вебсервера Роскомнадзор-ом;\n",
       "* $T_{2}$ &mdash; угроза использования механизмов авторизации для повышения привилегии;\n",
       "* $T_{3}$ &mdash; угроза отключения электроэнергии;\n",
       "* $T_{4}$ &mdash; угроза межсайтового скриптинга."
      ],
      "text/plain": [
       "<IPython.core.display.Markdown object>"
      ]
     },
     "execution_count": 3,
     "metadata": {},
     "output_type": "execute_result"
    }
   ],
   "source": [
    "threats = LatexList([\n",
    "    'угроза блокировки вебсервера Роскомнадзор-ом',\n",
    "    'угроза использования механизмов авторизации для повышения привилегии',\n",
    "    'угроза отключения электроэнергии',\n",
    "    'угроза межсайтового скриптинга'\n",
    "    ], letter='T')\n",
    "\n",
    "Markdown(str(threats))"
   ]
  },
  {
   "cell_type": "markdown",
   "metadata": {},
   "source": [
    "## 3. Вероятность реализации угрозы.\n",
    "\n",
    "Вероятность реализации $i$-ой угрозы в отношении $j$-ого информационого ресурса в течении времени $t$ записывается в таблице:\n",
    "\n",
    "$$P'(t) = || p'_{ij}(t)||,\\ i = \\overline{1, 3}\\ j = \\overline{1, 4}$$\n",
    "\n",
    "Эксперты оценили значения таблицы $P'(t)$ следующим образом:"
   ]
  },
  {
   "cell_type": "code",
   "execution_count": 4,
   "metadata": {
    "hide_input": true
   },
   "outputs": [
    {
     "data": {
      "text/markdown": [
       "$$P'(t) = \\begin{matrix}\n",
       "\t{} & {R_{1}} & {R_{2}} & {R_{3}}\\\\\n",
       "\t\\hline\n",
       "\t{T_{1}} & 0.00 & 0.00 & 1.00\\\\\n",
       "\t{T_{2}} & 0.80 & 0.90 & 0.95\\\\\n",
       "\t{T_{3}} & 0.10 & 0.01 & 0.01\\\\\n",
       "\t{T_{4}} & 0.70 & 0.20 & 0.90\\\\\n",
       "\\end{matrix}$$"
      ],
      "text/plain": [
       "<IPython.core.display.Markdown object>"
      ]
     },
     "execution_count": 4,
     "metadata": {},
     "output_type": "execute_result"
    }
   ],
   "source": [
    "pThreatToResource =  [\n",
    "    [0.00,     0.00,   1.00],\n",
    "    [0.80,     0.90,   0.95],\n",
    "    [0.10,     0.01,   0.01],\n",
    "    [0.70,     0.20,   0.90]\n",
    "]\n",
    "\n",
    "matrixString = headedMatrix(pThreatToResource, format='%.2f', \n",
    "                            headerRowList=resources, \n",
    "                            headerColumnList=threats)\n",
    "Markdown(\"$$P'(t) = %s$$\" % matrixString)"
   ]
  },
  {
   "cell_type": "markdown",
   "metadata": {},
   "source": [
    "## 4. Деструктивные действия.\n",
    "\n",
    "В отношении информационных ресурсов $R_i$ рассматриваются деструктивные действия $D_j$.\n",
    "\n",
    "Эксперты решили, что в рамках поставленной защиты следует обратить на четыре следующих деструктивных действий:"
   ]
  },
  {
   "cell_type": "code",
   "execution_count": 5,
   "metadata": {},
   "outputs": [
    {
     "data": {
      "text/markdown": [
       "* $D_{1}$ &mdash; удаление ресурса;\n",
       "* $D_{2}$ &mdash; изменение ресурса;\n",
       "* $D_{3}$ &mdash; несанкционированный доступ к ресурсу;\n",
       "* $D_{4}$ &mdash; недоступность ресурса."
      ],
      "text/plain": [
       "<IPython.core.display.Markdown object>"
      ]
     },
     "execution_count": 5,
     "metadata": {},
     "output_type": "execute_result"
    }
   ],
   "source": [
    "destructiveActions = LatexList([\n",
    "    'удаление ресурса',\n",
    "    'изменение ресурса',\n",
    "    'несанкционированный доступ к ресурсу',\n",
    "    'недоступность ресурса'\n",
    "    ], letter='D')\n",
    "\n",
    "Markdown(str(destructiveActions))"
   ]
  },
  {
   "cell_type": "markdown",
   "metadata": {},
   "source": [
    "Ущерб от реализации деструктивных действий представляется матрицой: \n",
    "\n",
    "$$D = ||d_{ij}||,\\ i = \\overline{1,3},\\ j = \\overline{1,4}$$\n",
    "\n",
    "где $i$ &mdash; номер ресурса ресурс,\n",
    "а $j$ &mdash; номер деструктивного действия.\n",
    "\n",
    "Эксперты определили матрицу $D$ следующим образом:"
   ]
  },
  {
   "cell_type": "code",
   "execution_count": 6,
   "metadata": {},
   "outputs": [
    {
     "data": {
      "text/markdown": [
       "$$D = \\begin{matrix}\n",
       "\t{} & {D_{1}} & {D_{2}} & {D_{3}} & {D_{4}}\\\\\n",
       "\t\\hline\n",
       "\t{R_{1}} & 50M & 10M & 100K & 50K\\\\\n",
       "\t{R_{2}} & 10K & 10K & 5K & 1K\\\\\n",
       "\t{R_{3}} & 80M & 5M & 80K & 400K\\\\\n",
       "\\end{matrix}$$"
      ],
      "text/plain": [
       "<IPython.core.display.Markdown object>"
      ]
     },
     "execution_count": 6,
     "metadata": {},
     "output_type": "execute_result"
    }
   ],
   "source": [
    "destructiveActionsCost =  [\n",
    "    [5e7,      1e7,    1e5,    5e4],\n",
    "    [1e4,      1e4,    5e3,    1e3],\n",
    "    [8e7,      5e6,    8e4,    4e5],\n",
    "]\n",
    "\n",
    "postfixedCosts = [[postfixNumber(c) for c in r] for r in destructiveActionsCost]\n",
    "matrixString = headedMatrix(postfixedCosts, format='%s', \n",
    "                            headerRowList=destructiveActions, \n",
    "                            headerColumnList=resources)\n",
    "Markdown(\"$$D = %s$$\" % matrixString)"
   ]
  },
  {
   "cell_type": "markdown",
   "metadata": {},
   "source": [
    "## 5. Связь между угрозами и деструктивными действиями.\n",
    "Взаимосвязь между угрозами и выполняемыми в результате их реализации деструктивными действиями определяется таблицей:\n",
    "\n",
    "$$T = ||t_{ij}||$$\n",
    "\n",
    "$t_{ij} = 1$, если в результате угрозы $T_i$ реализуется деструктивное действие $D_j$, иначе $t_{ij} = 0$.\n",
    "\n",
    "Эксперты определили таблицу $T$ следующим образом:"
   ]
  },
  {
   "cell_type": "code",
   "execution_count": 7,
   "metadata": {},
   "outputs": [
    {
     "data": {
      "text/markdown": [
       "$$T = \\begin{matrix}\n",
       "\t{} & {D_{1}} & {D_{2}} & {D_{3}} & {D_{4}}\\\\\n",
       "\t\\hline\n",
       "\t{T_{1}} & 0 & 0 & 0 & 1\\\\\n",
       "\t{T_{2}} & 1 & 1 & 1 & 0\\\\\n",
       "\t{T_{3}} & 0 & 1 & 0 & 1\\\\\n",
       "\t{T_{4}} & 0 & 1 & 1 & 0\\\\\n",
       "\\end{matrix}$$"
      ],
      "text/plain": [
       "<IPython.core.display.Markdown object>"
      ]
     },
     "execution_count": 7,
     "metadata": {},
     "output_type": "execute_result"
    }
   ],
   "source": [
    "threatActionBind =  [\n",
    "    [0, 0, 0, 1],\n",
    "    [1, 1, 1, 0],\n",
    "    [0, 1, 0, 1],\n",
    "    [0, 1, 1, 0],\n",
    "]\n",
    "\n",
    "matrixString = headedMatrix(threatActionBind, format='%g',\n",
    "                            headerRowList=destructiveActions,\n",
    "                            headerColumnList=threats)\n",
    "Markdown(\"$$T = %s$$\" % matrixString)"
   ]
  },
  {
   "cell_type": "markdown",
   "metadata": {},
   "source": [
    "## 6. Возможность реализации угрозы.\n",
    "\n",
    "В рассматриваемой информационной системе, сущесвуют $k_1, \\ldots, k_4$ уязвимостей. Данные уязвимости приведеные ниже:"
   ]
  },
  {
   "cell_type": "code",
   "execution_count": 8,
   "metadata": {},
   "outputs": [
    {
     "data": {
      "text/markdown": [
       "* $k_{1}$ &mdash; физическое нахождение сервера за границей РФ;\n",
       "* $k_{2}$ &mdash; разработка фронтэнда на аутсорсинге;\n",
       "* $k_{3}$ &mdash; использование устаревшей версии базы данных;\n",
       "* $k_{4}$ &mdash; использование списанного оборудования."
      ],
      "text/plain": [
       "<IPython.core.display.Markdown object>"
      ]
     },
     "execution_count": 8,
     "metadata": {},
     "output_type": "execute_result"
    }
   ],
   "source": [
    "vulnerabilities = LatexList([\n",
    "    'физическое нахождение сервера за границей РФ',\n",
    "    'разработка фронтэнда на аутсорсинге',\n",
    "    'использование устаревшей версии базы данных',\n",
    "    'использование списанного оборудования'\n",
    "    ], letter='k')\n",
    "\n",
    "Markdown(str(vulnerabilities))"
   ]
  },
  {
   "cell_type": "markdown",
   "metadata": {},
   "source": [
    "Каждая из данных уязвимостей может сыграть свою роль в релаизации какой либо угрозы, данная информация отражена в таблице $P''$:\n",
    "\n",
    "$$P''=||p''_{ij}||$$\n",
    "\n",
    "где $p''_{ij}$ вероятность, что могут сложится благоприятные обстоятельства для использования язвимости $K_j$ в интересах $T_i$ угрозы.\n",
    "\n",
    "Эксперты определили таблицу $P''$ следующим образом:"
   ]
  },
  {
   "cell_type": "code",
   "execution_count": 9,
   "metadata": {},
   "outputs": [
    {
     "data": {
      "text/markdown": [
       "$$P'' = \\begin{matrix}\n",
       "\t{} & {k_{1}} & {k_{2}} & {k_{3}} & {k_{4}}\\\\\n",
       "\t\\hline\n",
       "\t{T_{1}} & 0.80 & 0.60 & 0.00 & 0.00\\\\\n",
       "\t{T_{2}} & 0.00 & 0.70 & 0.80 & 0.40\\\\\n",
       "\t{T_{3}} & 0.10 & 0.00 & 0.00 & 0.50\\\\\n",
       "\t{T_{4}} & 0.00 & 0.50 & 0.80 & 0.10\\\\\n",
       "\\end{matrix}$$"
      ],
      "text/plain": [
       "<IPython.core.display.Markdown object>"
      ]
     },
     "execution_count": 9,
     "metadata": {},
     "output_type": "execute_result"
    }
   ],
   "source": [
    "pThreatsByVulnerabilities =  [\n",
    "    [0.80,     0.60,   0.00,   0.00],\n",
    "    [0.00,     0.70,   0.80,   0.40],\n",
    "    [0.10,     0.00,   0.00,   0.50],\n",
    "    [0.00,     0.50,   0.80,   0.10]\n",
    "]\n",
    "\n",
    "matrixString = headedMatrix(pThreatsByVulnerabilities, format='%.2f',\n",
    "                            headerRowList=vulnerabilities,\n",
    "                            headerColumnList=threats)\n",
    "Markdown(\"$$P'' = %s$$\" % matrixString)"
   ]
  },
  {
   "cell_type": "markdown",
   "metadata": {},
   "source": [
    "## 7. Благоприятные условия для реализации угроз.\n",
    "\n",
    "Далее определяем вероятность наличия благоприятных условий для реализации j-ой угрозы по формуле:"
   ]
  },
  {
   "cell_type": "code",
   "execution_count": 10,
   "metadata": {},
   "outputs": [
    {
     "data": {
      "text/markdown": [
       "$$p^*_j = 1 - \\prod_{k=1}^{4}(1-p_{jk})$$"
      ],
      "text/plain": [
       "<IPython.core.display.Markdown object>"
      ]
     },
     "execution_count": 10,
     "metadata": {},
     "output_type": "execute_result"
    }
   ],
   "source": [
    "Markdown(r'$$p^*_j = 1 - \\prod_{k=1}^{%i}(1-p''_{jk})$$' % len(vulnerabilities))"
   ]
  },
  {
   "cell_type": "markdown",
   "metadata": {},
   "source": [
    "Считая вероятности по формуле выше, получим следующие занчения $p^*_j$"
   ]
  },
  {
   "cell_type": "code",
   "execution_count": 11,
   "metadata": {},
   "outputs": [
    {
     "data": {
      "text/markdown": [
       "$$p^*_j = \\begin{matrix}\n",
       "\t{T_{1}} & 0.920\\\\\n",
       "\t{T_{2}} & 0.964\\\\\n",
       "\t{T_{3}} & 0.550\\\\\n",
       "\t{T_{4}} & 0.910\\\\\n",
       "\\end{matrix}$$"
      ],
      "text/plain": [
       "<IPython.core.display.Markdown object>"
      ]
     },
     "execution_count": 11,
     "metadata": {},
     "output_type": "execute_result"
    }
   ],
   "source": [
    "threatPossibility = [(1 - inverseProduct(row)) for row in pThreatsByVulnerabilities]\n",
    "\n",
    "matrixString = headedMatrix(threatPossibility, format='%.3f',\n",
    "                            headerRowList=[],\n",
    "                            headerColumnList=threats)\n",
    "Markdown(\"$$p^*_j = %s$$\" % matrixString)"
   ]
  },
  {
   "cell_type": "markdown",
   "metadata": {},
   "source": [
    "## 8. Вероятность реализации хотя бы одной угрозы в отношении конкретного ресурса.\n",
    "\n",
    "Вероятность реализации хотя бы $j$-ой угрозы в отношении любого информационного ресурса, определяется по формуле:"
   ]
  },
  {
   "cell_type": "code",
   "execution_count": 12,
   "metadata": {},
   "outputs": [
    {
     "data": {
      "text/markdown": [
       "$$P_j(t) = 1 - \\prod_{r=1}^{3}\\left(1 - p^*_j p'_{jr}(t)\\right)$$"
      ],
      "text/plain": [
       "<IPython.core.display.Markdown object>"
      ]
     },
     "execution_count": 12,
     "metadata": {},
     "output_type": "execute_result"
    }
   ],
   "source": [
    "Markdown(r\"$$P_j(t) = 1 - \\prod_{r=1}^{%i}\\left(1 - p^*_j p'_{jr}(t)\\right)$$\" % len(resources))"
   ]
  },
  {
   "cell_type": "markdown",
   "metadata": {},
   "source": [
    "В результате расчётов в данном примере значения $P_j(t)$ приведены ниже:"
   ]
  },
  {
   "cell_type": "code",
   "execution_count": 19,
   "metadata": {},
   "outputs": [
    {
     "data": {
      "text/markdown": [
       "$$P_j(t) = \\begin{matrix}\n",
       "\t{T_{1}} & 0.920\\\\\n",
       "\t{T_{2}} & 0.997\\\\\n",
       "\t{T_{3}} & 0.065\\\\\n",
       "\t{T_{4}} & 0.946\\\\\n",
       "\\end{matrix}$$"
      ],
      "text/plain": [
       "<IPython.core.display.Markdown object>"
      ]
     },
     "execution_count": 19,
     "metadata": {},
     "output_type": "execute_result"
    }
   ],
   "source": [
    "pThreatToResourcePossibility = [[v * pT for v in row] for pT, row in zip(threatPossibility, pThreatToResource)]\n",
    "pResources = [(1 - inverseProduct(row)) for row in pThreatToResourcePossibility]\n",
    "\n",
    "matrixString = headedMatrix(pResources, format='%.3f',\n",
    "                            headerRowList=[],\n",
    "                            headerColumnList=threats)\n",
    "Markdown(\"$$P_j(t) = %s$$\" % matrixString)"
   ]
  },
  {
   "cell_type": "markdown",
   "metadata": {},
   "source": [
    "## 9. Коэффициент опасности.\n",
    "\n",
    "Коэффициент опасности $j$-ой угрозы определяется по формуле:\n",
    "\n",
    "$$\\overline{D_j} = \\sum_{r=1}^R \\sum_{g=1}^D \\left( t_{jg} \\frac{d_{jr}}{D_{пр}} p'_{jr}(t) \\right)$$"
   ]
  },
  {
   "cell_type": "code",
   "execution_count": 17,
   "metadata": {},
   "outputs": [
    {
     "data": {
      "text/latex": [
       "$$D_{пр} = 5M$$"
      ],
      "text/plain": [
       "<IPython.core.display.Math object>"
      ]
     },
     "execution_count": 17,
     "metadata": {},
     "output_type": "execute_result"
    }
   ],
   "source": [
    "maxCost = 5e6\n",
    "\n",
    "Math(\"D_{пр} = \" + postfixNumber(maxCost))"
   ]
  },
  {
   "cell_type": "markdown",
   "metadata": {},
   "source": [
    "С учётом установленного $D_{пр}$, $\\overline{D_j}$ равен:"
   ]
  },
  {
   "cell_type": "code",
   "execution_count": 23,
   "metadata": {},
   "outputs": [
    {
     "data": {
      "text/markdown": [
       "$$\\overline{D_j} = \\begin{matrix}\n",
       "\t{T_{1}} & 0.080\\\\\n",
       "\t{T_{2}} & 3.536\\\\\n",
       "\t{T_{3}} & 0.112\\\\\n",
       "\t{T_{4}} & 1.629\\\\\n",
       "\\end{matrix}$$"
      ],
      "text/plain": [
       "<IPython.core.display.Markdown object>"
      ]
     },
     "execution_count": 23,
     "metadata": {},
     "output_type": "execute_result"
    }
   ],
   "source": [
    "destructiveActionsNorm = [[v / maxCost if v < maxCost else 1 for v in row] for row in destructiveActionsCost]\n",
    "\n",
    "def getDangerousCoefficient(j):\n",
    "    result = 0\n",
    "    for r in range(len(resources)):\n",
    "        for g in range(len(threats)):\n",
    "            result += threatActionBind[j][g] * destructiveActionsNorm[r][g] * pThreatToResource[j][r]\n",
    "    return result\n",
    "\n",
    "Dj = [getDangerousCoefficient(j) for j in range(len(threats))]\n",
    "\n",
    "matrixString = headedMatrix(Dj, format='%.3f',\n",
    "                            headerRowList=[],\n",
    "                            headerColumnList=threats)\n",
    "Markdown(\"$$\\overline{D_j} = %s$$\" % matrixString)"
   ]
  }
 ],
 "metadata": {
  "hide_input": false,
  "kernelspec": {
   "display_name": "Python 3",
   "language": "python",
   "name": "python3"
  },
  "language_info": {
   "codemirror_mode": {
    "name": "ipython",
    "version": 3
   },
   "file_extension": ".py",
   "mimetype": "text/x-python",
   "name": "python",
   "nbconvert_exporter": "python",
   "pygments_lexer": "ipython3",
   "version": "3.5.2"
  },
  "latex_envs": {
   "LaTeX_envs_menu_present": true,
   "autoclose": false,
   "autocomplete": true,
   "bibliofile": "biblio.bib",
   "cite_by": "apalike",
   "current_citInitial": 1,
   "eqLabelWithNumbers": true,
   "eqNumInitial": 1,
   "hotkeys": {
    "equation": "Ctrl-E",
    "itemize": "Ctrl-I"
   },
   "labels_anchors": false,
   "latex_user_defs": false,
   "report_style_numbering": false,
   "user_envs_cfg": false
  }
 },
 "nbformat": 4,
 "nbformat_minor": 2
}
