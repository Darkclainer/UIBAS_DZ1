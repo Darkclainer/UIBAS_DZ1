{
 "cells": [
  {
   "cell_type": "code",
   "execution_count": 1,
   "metadata": {},
   "outputs": [],
   "source": [
    "from IPython.display import Markdown, Javascript, clear_output, display_markdown\n",
    "import ipywidgets as widgets\n",
    "\n",
    "threatPossibility = None\n",
    "defenceLevel = None\n",
    "intruderLevel = None\n",
    "\n",
    "damageLevel = None"
   ]
  },
  {
   "cell_type": "markdown",
   "metadata": {},
   "source": [
    "# ОПРЕДЕЛЕНИЕ АКТУАЛЬНЫХ УГРОЗ БЕЗОПАСНОСТИ ИНФОРМАЦИИ В ИНФОРМАЦИОННОЙ СИСТЕМЕ\n",
    "В качестве  показателя  актуальности  угрозы  безопасности  информации $УБИ_j^А$ принимается  двухкомпонентный  вектор, первый компонент которого характеризует *вероятность реализации угрозы* $Р_j$ , а второй &mdash; *степень возможного ущерба* в случае ее реализации $Х_j$.\n",
    "\n",
    "$$УБИ_j^А = [P_j; X_j]$$\n",
    "\n",
    "где $Р_j$ определятся на основе анализа статистических данных о частоте реализации угроз безопасности информации, а $Х_j$ определяется  на  основе  оценок  степени  последствий  от  нарушения конфиденциальности, целостности или  доступности информации.\n",
    "\n",
    "При отсутствии статистических данных о реализации угроз безопасности информации (возникновении инцидентов безопасности) в информационной системе, актуальность угрозы без-опасности информации определяется на основе *оценки возможности реализации угрозы* безопасности информации $Y_j$\n",
    "\n",
    "$$УБИ_j^А = [Y_j; X_j]$$\n",
    "\n",
    "где $Y_j$ определятся на основе оценки уровня защищенности информационной системы и потенциала нарушителя, требуемого для реализации угрозы безопасности. "
   ]
  },
  {
   "cell_type": "markdown",
   "metadata": {},
   "source": [
    "## 1. Оценка вероятности (возможности) реализации угрозы безопасности информации\n",
    "\n",
    "Под вероятностью реализации угрозы безопасности информации понимается определяемый экспертным путем показатель, характеризующий, насколько вероятным является реализация $j$-ой угрозы безопасности информации в информационной  системе  с  заданными структурно-функциональными  характеристиками и  особенностями  функционирования. Вводятся  три  вербальные  градации этого показателя:\n",
    "* *низкая вероятность* &mdash; отсутствуют объективные предпосылки к реализации $j$-ой угрозы  безопасности  информации, отсутствует  требуемая  статистика  по фактам реализации $j$-ой угрозы безопасности информации (возникновения инцидентов безопасности), отсутствует мотивация для реализации $j$-ой угрозы, возможная частота реализации $j$-ой угрозы не превышает 1 раза в 5 лет;\n",
    "\n",
    "* *средняя вероятность* &mdash; существуют предпосылки к реализации $j$-ой угрозы безопасности информации, зафиксированы случаи реализации $j$-ой угрозы безопасности информации (возникновения инцидентов безопасности) или имеется иная  информация,  указывающая  на  возможность  реализации $j$-ой угрозы безопасности информации, существуют признаки наличия у нарушителя мотивации для реализации такой угрозы, возможная частота реализации $j$-ой угрозы не превышает 1 раза в год;\n",
    " \n",
    "* *высокая вероятность* &mdash; существуют объективные предпосылки к реализации $j$-ой угрозы безопасности информации, существует достоверная статистика реализации $j$-ой угрозы безопасности  информации (возникновения инцидентов безопасности) или имеется иная информация, указывающая на высокую возможность реализации $j$-ой угрозы безопасности информации, у нарушителя имеются мотивы для реализации $j$-ой угрозы, частота реализации $j$-ой угрозы чаще 1 раза в год."
   ]
  },
  {
   "cell_type": "code",
   "execution_count": 2,
   "metadata": {},
   "outputs": [
    {
     "data": {
      "application/vnd.jupyter.widget-view+json": {
       "model_id": "077a80ff47664ceaadad25984b60009e",
       "version_major": 2,
       "version_minor": 0
      },
      "text/plain": [
       "RadioButtons(description='$P_j$:', options=(('Высокая', 'В'), ('Средняя', 'C'), ('Низкая', 'Н'), ('Неясно', No…"
      ]
     },
     "metadata": {},
     "output_type": "display_data"
    },
    {
     "data": {
      "text/markdown": [
       "В случае отсутствия требуемых данных для оценки вероятности реализации угрозы безопасности информации или наличия сомнени\n",
       "й в объективности экспертных оценок при определении вербальных градаций вероятности реализации  угроз  безопасности  информации\n",
       ", актуальность $j$-ой  угрозы безопасности информации определяется на основе оценки возможности ее реализации $Y_j$.\n",
       "\n",
       "[Перейти к оценки возможности реализации угрозы.](#ThreatPossibilityCalculation)"
      ],
      "text/plain": [
       "<IPython.core.display.Markdown object>"
      ]
     },
     "metadata": {},
     "output_type": "display_data"
    }
   ],
   "source": [
    "threatPossibilityButton = widgets.RadioButtons(\n",
    "    options=[('Высокая', 'В'), ('Средняя', 'C'), ('Низкая', 'Н'), ('Неясно', None)],\n",
    "    value=None,\n",
    "    description='$P_j$:',\n",
    "    disabled=False\n",
    ")\n",
    "\n",
    "def threatPossibilityButtonChange(change):\n",
    "    clear_output(wait=True)\n",
    "    display(threatPossibilityButton)\n",
    "    if change['new'] == None:\n",
    "        display(Markdown('''В случае отсутствия требуемых данных для оценки вероятности реализации угрозы безопасности информации или наличия сомнени\n",
    "й в объективности экспертных оценок при определении вербальных градаций вероятности реализации  угроз  безопасности  информации\n",
    ", актуальность $j$-ой  угрозы безопасности информации определяется на основе оценки возможности ее реализации $Y_j$.\n",
    "\n",
    "[Перейти к оценки возможности реализации угрозы.](#ThreatPossibilityCalculation)'''))\n",
    "    else:\n",
    "        global threatPossibility\n",
    "        threatPossibility = change['new']\n",
    "        \n",
    "        display(Markdown('$P_j$ = \"' + change['new'] + '\"'))\n",
    "        display(Markdown('[Перейти к оценки степени возможного ущерба.](#EvaluatingPossibleDamage)'))\n",
    "    \n",
    "threatPossibilityButton.observe(threatPossibilityButtonChange, 'value')\n",
    "display(threatPossibilityButton)"
   ]
  },
  {
   "cell_type": "markdown",
   "metadata": {},
   "source": [
    "<a id='ThreatPossibilityCalculation'></a>\n",
    "## 1.1 Оценка возможности реализации угрозы $Y_j$.\n",
    "### 1.1.1 Оценка уровня защищённости $Y_1$.\n",
    "\n",
    "Возможность реализации $j$-ой угрозы безопасности информации $Y_j$ оценивается исходя из уровня защищенности информационной системы $Y_1$ и потенциала нарушителя $Y_2$, необходимого для реализации этой угрозы безопасности информации в информационной системе с заданными структурно-функциональными характеристиками и особенностями функционирования:\n",
    "\n",
    "$$Y_j = [Y_1; Y_2]$$"
   ]
  },
  {
   "cell_type": "code",
   "execution_count": 3,
   "metadata": {},
   "outputs": [
    {
     "data": {
      "application/vnd.jupyter.widget-view+json": {
       "model_id": "4749dc879e2f4a88a975872a55626b4f",
       "version_major": 2,
       "version_minor": 0
      },
      "text/plain": [
       "RadioButtons(description='$Y_1$:', options=(('Высокий', 'В'), ('Средний', 'C'), ('Низкий', 'Н'), ('Неясно', No…"
      ]
     },
     "metadata": {},
     "output_type": "display_data"
    },
    {
     "data": {
      "text/markdown": [
       "$Y_1$ = \"В\""
      ],
      "text/plain": [
       "<IPython.core.display.Markdown object>"
      ]
     },
     "metadata": {},
     "output_type": "display_data"
    },
    {
     "data": {
      "text/markdown": [
       "[Перейти к оценки потенциала нарушителя.](#EvaluatingIntruderLevel)"
      ],
      "text/plain": [
       "<IPython.core.display.Markdown object>"
      ]
     },
     "metadata": {},
     "output_type": "display_data"
    }
   ],
   "source": [
    "defenceLevelButton = widgets.RadioButtons(\n",
    "    options=[('Высокий', 'В'), ('Средний', 'C'), ('Низкий', 'Н'), ('Неясно',None)],\n",
    "    value=None,\n",
    "    description='$Y_1$:',\n",
    "    disabled=False\n",
    ")\n",
    "\n",
    "def defenceLevelButtonChange(change):\n",
    "    clear_output(wait=True)\n",
    "    display(defenceLevelButton)\n",
    "    if change['new'] == None:\n",
    "        display(Markdown('''При определении угроз безопасности информации на этапе создания информационной системы в случае, \n",
    "когда меры защиты информации не реализованы или не проведена оценка их достаточности и эффективности, \n",
    "оценка возможности реализации $j$-ой угрозы безопасности информации $Y_j$ проводится относительно уровня \n",
    "проектной защищенности информационной системы $Y_{1П}$:\n",
    "\n",
    "$$Y_j = [Y_{1П}; Y_2]$$\n",
    "\n",
    "[Перейти к оценки уровня проектной защищённости.](#DefenceProjectLevel)'''))\n",
    "    else:\n",
    "        global defenceLevel\n",
    "        defenceLevel = change['new']\n",
    "        \n",
    "        display(Markdown('$Y_1$ = \"' + change['new'] + '\"'))\n",
    "        display(Markdown('[Перейти к оценки потенциала нарушителя.](#EvaluatingIntruderLevel)'))\n",
    "    \n",
    "defenceLevelButton.observe(defenceLevelButtonChange, 'value')\n",
    "display(defenceLevelButton)"
   ]
  },
  {
   "cell_type": "markdown",
   "metadata": {},
   "source": [
    "<a id='DefenceProjectLevel'></a>\n",
    "### 1.1.1* Оценка уровня проектной защищённости $Y_{1П}$.\n",
    "\n",
    "Под уровнем проектной защищенности  $Y_{1П}$ понимается исходная защищенность информационной системы, обусловленная заданными при проектировании структурно-функциональными характеристиками и условиями ее функционирования. Уровень  проектной защищенности  $Y_{1П}$ определяется на основе анализа проектных структурно-функциональных характеристик:"
   ]
  },
  {
   "cell_type": "code",
   "execution_count": 4,
   "metadata": {
    "scrolled": false
   },
   "outputs": [
    {
     "data": {
      "text/markdown": [
       "По структуре  информационной  системы:"
      ],
      "text/plain": [
       "<IPython.core.display.Markdown object>"
      ]
     },
     "metadata": {},
     "output_type": "display_data"
    },
    {
     "data": {
      "application/vnd.jupyter.widget-view+json": {
       "model_id": "3422087c26f54fd49790084e1032c587",
       "version_major": 2,
       "version_minor": 0
      },
      "text/plain": [
       "RadioButtons(layout=Layout(width='90%'), options=(('автономное автоматизированное рабочее место', 'В'), ('лока…"
      ]
     },
     "metadata": {},
     "output_type": "display_data"
    },
    {
     "data": {
      "text/markdown": [
       "По используемым информационным технологиям:"
      ],
      "text/plain": [
       "<IPython.core.display.Markdown object>"
      ]
     },
     "metadata": {},
     "output_type": "display_data"
    },
    {
     "data": {
      "application/vnd.jupyter.widget-view+json": {
       "model_id": "ef7e6efb36b043a19e8eb1aac5722ee5",
       "version_major": 2,
       "version_minor": 0
      },
      "text/plain": [
       "RadioButtons(layout=Layout(width='90%'), options=(('системы на основе виртуализации', 'Н'), ('системы,  реализ…"
      ]
     },
     "metadata": {},
     "output_type": "display_data"
    },
    {
     "data": {
      "text/markdown": [
       "По архитектуре  информационной систем:"
      ],
      "text/plain": [
       "<IPython.core.display.Markdown object>"
      ]
     },
     "metadata": {},
     "output_type": "display_data"
    },
    {
     "data": {
      "application/vnd.jupyter.widget-view+json": {
       "model_id": "30cd3e91e72442de8aafcfdc7d8b788e",
       "version_major": 2,
       "version_minor": 0
      },
      "text/plain": [
       "RadioButtons(layout=Layout(width='90%'), options=(('на основе «тонкого клиента»', 'В'), ('на основе однорангов…"
      ]
     },
     "metadata": {},
     "output_type": "display_data"
    },
    {
     "data": {
      "text/markdown": [
       "По наличию  (отсутствию)  взаимосвязей  с  иными  информационными  системами:"
      ],
      "text/plain": [
       "<IPython.core.display.Markdown object>"
      ]
     },
     "metadata": {},
     "output_type": "display_data"
    },
    {
     "data": {
      "application/vnd.jupyter.widget-view+json": {
       "model_id": "1b21ef0f12db45e89efb7ad8ca3f4f4d",
       "version_major": 2,
       "version_minor": 0
      },
      "text/plain": [
       "RadioButtons(layout=Layout(width='90%'), options=(('взаимодействующая с системами', 'Н'), ('невзаимодействующа…"
      ]
     },
     "metadata": {},
     "output_type": "display_data"
    },
    {
     "data": {
      "text/markdown": [
       "По наличию  (отсутствию) взаимосвязей  (подключений) ксетям  связи общего пользования:"
      ],
      "text/plain": [
       "<IPython.core.display.Markdown object>"
      ]
     },
     "metadata": {},
     "output_type": "display_data"
    },
    {
     "data": {
      "application/vnd.jupyter.widget-view+json": {
       "model_id": "b5a8c150b78148028deffe0443ab11ff",
       "version_major": 2,
       "version_minor": 0
      },
      "text/plain": [
       "RadioButtons(layout=Layout(width='90%'), options=(('подключенная', 'Н'), ('подключенная через выдленную инфрас…"
      ]
     },
     "metadata": {},
     "output_type": "display_data"
    },
    {
     "data": {
      "text/markdown": [
       "По размещению технических средств:"
      ],
      "text/plain": [
       "<IPython.core.display.Markdown object>"
      ]
     },
     "metadata": {},
     "output_type": "display_data"
    },
    {
     "data": {
      "application/vnd.jupyter.widget-view+json": {
       "model_id": "9eed18e0cd7d473a92d0ac2f91a1f1e5",
       "version_major": 2,
       "version_minor": 0
      },
      "text/plain": [
       "RadioButtons(layout=Layout(width='90%'), options=(('расположенные  в  пределах  одной контролируемой зоны', 'В…"
      ]
     },
     "metadata": {},
     "output_type": "display_data"
    },
    {
     "data": {
      "text/markdown": [
       "По режимам обработки информации в информационной системе:"
      ],
      "text/plain": [
       "<IPython.core.display.Markdown object>"
      ]
     },
     "metadata": {},
     "output_type": "display_data"
    },
    {
     "data": {
      "application/vnd.jupyter.widget-view+json": {
       "model_id": "0b50280f490241118b40a8f9980ac3ad",
       "version_major": 2,
       "version_minor": 0
      },
      "text/plain": [
       "RadioButtons(layout=Layout(width='90%'), options=(('многопользовательский', 'Н'), ('однопользовательский', 'В'…"
      ]
     },
     "metadata": {},
     "output_type": "display_data"
    },
    {
     "data": {
      "text/markdown": [
       "По режимам разграничения прав доступа:"
      ],
      "text/plain": [
       "<IPython.core.display.Markdown object>"
      ]
     },
     "metadata": {},
     "output_type": "display_data"
    },
    {
     "data": {
      "application/vnd.jupyter.widget-view+json": {
       "model_id": "cebf8eec5bec4b758da3d1257f3e94b6",
       "version_major": 2,
       "version_minor": 0
      },
      "text/plain": [
       "RadioButtons(layout=Layout(width='90%'), options=(('без разграничения', 'Н'), ('с разграничения', 'С'), ('ничт…"
      ]
     },
     "metadata": {},
     "output_type": "display_data"
    },
    {
     "data": {
      "text/markdown": [
       "По режимам разделения функций по управлению информационной системой:"
      ],
      "text/plain": [
       "<IPython.core.display.Markdown object>"
      ]
     },
     "metadata": {},
     "output_type": "display_data"
    },
    {
     "data": {
      "application/vnd.jupyter.widget-view+json": {
       "model_id": "3914c6c6a2354ad7a70a8f0deb368e61",
       "version_major": 2,
       "version_minor": 0
      },
      "text/plain": [
       "RadioButtons(layout=Layout(width='90%'), options=(('без разделения', 'Н'), ('выделение рабочих  местдля  админ…"
      ]
     },
     "metadata": {},
     "output_type": "display_data"
    },
    {
     "data": {
      "text/markdown": [
       "По  подходам  к  сегментированию информационной системы:"
      ],
      "text/plain": [
       "<IPython.core.display.Markdown object>"
      ]
     },
     "metadata": {},
     "output_type": "display_data"
    },
    {
     "data": {
      "application/vnd.jupyter.widget-view+json": {
       "model_id": "fc46746458f342c589ab0df9623d9894",
       "version_major": 2,
       "version_minor": 0
      },
      "text/plain": [
       "RadioButtons(layout=Layout(width='90%'), options=(('без сегментирования', 'Н'), ('с сегментирования', 'С'), ('…"
      ]
     },
     "metadata": {},
     "output_type": "display_data"
    }
   ],
   "source": [
    "projectionDefenceDescription = [\n",
    "    {\n",
    "        'description': 'По структуре  информационной  системы:',\n",
    "        'options': [\n",
    "            ('автономное автоматизированное рабочее место', 'В'),\n",
    "            ('локальная информационная система', 'С'),\n",
    "            ('распределенная  информационная  система', 'Н')\n",
    "        ]\n",
    "    },\n",
    "    {\n",
    "        'description': 'По используемым информационным технологиям:',\n",
    "        'options': [\n",
    "            ('системы на основе виртуализации', 'Н'),\n",
    "            ('системы,  реализующие  «облачные вычисления»', 'Н'),\n",
    "            ('системы с мобильными устройствами', 'Н'),\n",
    "            ('системы с технологиями беспроводного доступа', 'Н'),\n",
    "            ('гридсистемы', 'Н'),\n",
    "            ('суперкомпьютерные системы', 'Н')\n",
    "        ]\n",
    "    },\n",
    "    {\n",
    "        'description': 'По архитектуре  информационной систем:',\n",
    "        'options': [\n",
    "            ('на основе «тонкого клиента»', 'В'),\n",
    "            ('на основе одноранговой сети', 'С'),\n",
    "            ('файл-серверные системы', 'Н'),\n",
    "            ('центры обработки данных', 'Н'),\n",
    "            ('с удалённым доступом пользователей', 'Н'),\n",
    "            ('разных типов операционных  систем(гетерогенность  среды)', 'С'),\n",
    "            ('использование кроссплатформеного ПО', 'С'),\n",
    "            ('использование выделенных каналов связи', 'С')\n",
    "        ]\n",
    "    },\n",
    "    {\n",
    "        'description': 'По наличию  (отсутствию)  взаимосвязей  с  иными  информационными  системами:',\n",
    "        'options': [\n",
    "            ('взаимодействующая с системами', 'Н'),\n",
    "            ('невзаимодействующая с системами', 'С'),\n",
    "        ]\n",
    "    },\n",
    "    {\n",
    "        'description': 'По наличию  (отсутствию) взаимосвязей  (подключений) ксетям  связи общего пользования:',\n",
    "        'options': [\n",
    "            ('подключенная', 'Н'),\n",
    "            ('подключенная через выдленную инфраструктуру', 'С'),\n",
    "            ('неподключённой', 'В')\n",
    "        ]\n",
    "    },\n",
    "    {\n",
    "        'description': 'По размещению технических средств:',\n",
    "        'options': [\n",
    "            ('расположенные  в  пределах  одной контролируемой зоны', 'В'),\n",
    "            ('расположенные в пределах нескольких контролируемых зон', 'С'),\n",
    "            ('расположенные вне контролируемой зоны', 'Н')\n",
    "        ]\n",
    "    },\n",
    "    {\n",
    "        'description': 'По режимам обработки информации в информационной системе:',\n",
    "        'options': [\n",
    "            ('многопользовательский', 'Н'),\n",
    "            ('однопользовательский', 'В')\n",
    "        ]\n",
    "    },\n",
    "    {\n",
    "        'description': 'По режимам разграничения прав доступа:',\n",
    "        'options': [\n",
    "            ('без разграничения', 'Н'),\n",
    "            ('с разграничения', 'С')\n",
    "        ]\n",
    "    },\n",
    "    {\n",
    "        'description': 'По режимам разделения функций по управлению информационной системой:',\n",
    "        'options': [\n",
    "            ('без разделения', 'Н'),\n",
    "            ('выделение рабочих  местдля  администрирования в отдельный домен', 'С'),\n",
    "            ('использование различных  сетевых адресов', 'С'),\n",
    "            ('использование  выделенных  каналов для администрирования', 'С')\n",
    "        ]\n",
    "    },\n",
    "    {\n",
    "        'description': 'По  подходам  к  сегментированию информационной системы:',\n",
    "        'options': [\n",
    "            ('без сегментирования', 'Н'),\n",
    "            ('с сегментирования', 'С')\n",
    "        ]\n",
    "    },\n",
    "]\n",
    "\n",
    "clear_output()\n",
    "projectionDefenceButtons = []\n",
    "for desc in projectionDefenceDescription:\n",
    "    display(Markdown(desc['description']))\n",
    "    newButton = widgets.RadioButtons(\n",
    "        options=desc['options'] + [('ничто из перечисленного', None)],\n",
    "        value=None,\n",
    "        description='',\n",
    "        disabled=False,\n",
    "        layout=widgets.Layout(width='90%')\n",
    "    )\n",
    "    display(newButton)\n",
    "    projectionDefenceButtons.append(newButton)"
   ]
  },
  {
   "cell_type": "markdown",
   "metadata": {},
   "source": [
    "В  ходе  создания  информационной системы  уровень ее проектной защищенности $Y_{1П}$ определяется следующим образом:\n",
    "\n",
    "1. информационная система имеет **высокий** уровень проектной защищенности $Y_{1П}$, если не менее 80% характеристик информационной системы соответствуют уровню «высокий», а остальные - среднему  уровню защищенности\n",
    "\n",
    "2. информационная система имеет **средний** уровень проектной защищенности $Y_{1П}$, если не выполняются условия по пункту 1 и не менее 90% характеристик  информационной  системы  соответствуют  уровню  не  ниже  «средний», а остальные - низкому уровню защищенности;\n",
    "\n",
    "3. информационная система имеет **низкий** уровень проектной защищенности $Y_{1П}$, если не выполняются условия по пунктам 1 и 2."
   ]
  },
  {
   "cell_type": "code",
   "execution_count": 5,
   "metadata": {},
   "outputs": [
    {
     "data": {
      "application/vnd.jupyter.widget-view+json": {
       "model_id": "7984b4469f3744529857cadccad1cfcc",
       "version_major": 2,
       "version_minor": 0
      },
      "text/plain": [
       "Button(description='Расчитать уровень проектной защищённости', layout=Layout(width='100%'), style=ButtonStyle(…"
      ]
     },
     "metadata": {},
     "output_type": "display_data"
    }
   ],
   "source": [
    "def evaluateProjectionLevel(button):\n",
    "    clear_output()\n",
    "    display(evaluateProjectionLevelButton)\n",
    "    levels = {'В':0, 'С':0, 'Н': 0}\n",
    "    for choose in projectionDefenceButtons:\n",
    "        if choose.value:\n",
    "            levels[choose.value] += 1\n",
    "    \n",
    "    total = sum(levels.values())\n",
    "    display(Markdown('''\n",
    "Соотношение пунктов по количеству:\n",
    "* Высокий: {}\n",
    "* Средний: {}\n",
    "* Низкий: {}\n",
    "* Всего: {}'''.format(levels['В'], levels['С'],  levels['Н'], total)))\n",
    "    \n",
    "    global defenceLevel\n",
    "    if levels['В'] / total >= 0.8 and levels['Н'] == 0:\n",
    "        defenceLevel = 'В'\n",
    "    elif (levels['В'] + levels['С']) / total >= 0.9:\n",
    "        defenceLevel = 'С'\n",
    "    else:\n",
    "        defenceLevel = 'Н'\n",
    "    \n",
    "    display(Markdown('$Y_{1П}$ = \"' + defenceLevel + '\"'))\n",
    "    \n",
    "evaluateProjectionLevelButton = widgets.Button(\n",
    "    description='Расчитать уровень проектной защищённости',\n",
    "    disabled=False,\n",
    "    button_style='', # 'success', 'info', 'warning', 'danger' or ''\n",
    "    tooltip='',\n",
    "    icon='',\n",
    "    layout=widgets.Layout(width='100%'),\n",
    ")\n",
    "evaluateProjectionLevelButton.on_click(evaluateProjectionLevel)\n",
    "display(evaluateProjectionLevelButton)\n"
   ]
  },
  {
   "cell_type": "markdown",
   "metadata": {},
   "source": [
    "<a id='EvaluatingIntruderLevel'></a>\n",
    "### 1.1.2 Оценка потенциала нарушителя $Y_2$.\n",
    "\n",
    "Потенциал, требуемый нарушителю для реализации $j$-ой угрозы безопасности информации, может быть базовым (низким), базовым повышенным (средним) или высоким. Значение потенциала нарушителя $Y_2$ для $j$-ой угрозы безопасности  информации  определяется на основе  данных,  приведенных в банке данных угроз безопасности информации ФСТЭК России, а также  в базовых и типовых  моделях  угроз  безопасности  информации,  разрабатываемых  ФСТЭК России для информационных систем различных классов и типов."
   ]
  },
  {
   "cell_type": "code",
   "execution_count": 6,
   "metadata": {},
   "outputs": [
    {
     "data": {
      "application/vnd.jupyter.widget-view+json": {
       "model_id": "a94a85c4cd6542efbd0bfece560876e2",
       "version_major": 2,
       "version_minor": 0
      },
      "text/plain": [
       "RadioButtons(description='$Y_2$:', index=2, options=(('Высокий', 'В'), ('Средний', 'C'), ('Низкий', 'Н')), val…"
      ]
     },
     "metadata": {},
     "output_type": "display_data"
    },
    {
     "data": {
      "text/markdown": [
       "$Y_2$ = \"Н\""
      ],
      "text/plain": [
       "<IPython.core.display.Markdown object>"
      ]
     },
     "metadata": {},
     "output_type": "display_data"
    }
   ],
   "source": [
    "intruderLevelButton = widgets.RadioButtons(\n",
    "    options=[('Высокий', 'В'), ('Средний', 'C'), ('Низкий', 'Н')],\n",
    "    value=None,\n",
    "    description='$Y_2$:',\n",
    "    disabled=False\n",
    ")\n",
    "\n",
    "def intruderLevelButtonChange(change):\n",
    "    clear_output(wait=True)\n",
    "    display(intruderLevelButton)\n",
    "    \n",
    "    global intruderLevel\n",
    "    intruderLevel = change['new']\n",
    "        \n",
    "    display(Markdown('$Y_2$ = \"' + change['new'] + '\"'))\n",
    "    \n",
    "intruderLevelButton.observe(intruderLevelButtonChange, 'value')\n",
    "display(intruderLevelButton)"
   ]
  },
  {
   "cell_type": "markdown",
   "metadata": {},
   "source": [
    "## 1.2 Возможность реализации $j$-ой угрозы безопасности информации\n",
    "\n",
    "Возможность реализации $j$-ой угрозы безопасности информации $Y_j$ в зависимости от уровня защищенности информационной системы $Y_1$/$Y_{1П}$ и потенциала нарушителя $Y_2$ определяется как высокая, средняя или низкая соответствии с таблицой:"
   ]
  },
  {
   "cell_type": "code",
   "execution_count": 7,
   "metadata": {},
   "outputs": [
    {
     "data": {
      "text/html": [
       "<table>\n",
       "<tr>\n",
       "    <th colspan=\"2\"></th>\n",
       "    <th colspan=\"3\">Уровень защищённости $Y_1$/$Y_{1П}$</th>\n",
       "</tr>\n",
       "<tr>\n",
       "    <th colspan=\"2\"></th>\n",
       "    <th>высокий</th>\n",
       "    <th>средний</th>\n",
       "    <th>низкий</th>\n",
       "</tr>\n",
       "<tr>\n",
       "    <th rowspan=\"3\">Потенциал нарушителя $Y_2$</th>\n",
       "    <th>низкий</th>\n",
       "    <td>низкая</td>\n",
       "    <td>средняя</td>\n",
       "    <td>высокая</td>\n",
       "</tr>\n",
       "<tr>\n",
       "    <th>средний</th>\n",
       "    <td>средняя</td>\n",
       "    <td>высокая</td>\n",
       "    <td>высокая</td>\n",
       "</tr>\n",
       "<tr>\n",
       "    <th>высокий</th>\n",
       "    <td>высокая</td>\n",
       "    <td>высокая</td>\n",
       "    <td>высокая</td>\n",
       "</tr>\n",
       "</table>"
      ],
      "text/plain": [
       "<IPython.core.display.HTML object>"
      ]
     },
     "metadata": {},
     "output_type": "display_data"
    }
   ],
   "source": [
    "%%html\n",
    "<table>\n",
    "<tr>\n",
    "    <th colspan=\"2\"></th>\n",
    "    <th colspan=\"3\">Уровень защищённости $Y_1$/$Y_{1П}$</th>\n",
    "</tr>\n",
    "<tr>\n",
    "    <th colspan=\"2\"></th>\n",
    "    <th>высокий</th>\n",
    "    <th>средний</th>\n",
    "    <th>низкий</th>\n",
    "</tr>\n",
    "<tr>\n",
    "    <th rowspan=\"3\">Потенциал нарушителя $Y_2$</th>\n",
    "    <th>низкий</th>\n",
    "    <td>низкая</td>\n",
    "    <td>средняя</td>\n",
    "    <td>высокая</td>\n",
    "</tr>\n",
    "<tr>\n",
    "    <th>средний</th>\n",
    "    <td>средняя</td>\n",
    "    <td>высокая</td>\n",
    "    <td>высокая</td>\n",
    "</tr>\n",
    "<tr>\n",
    "    <th>высокий</th>\n",
    "    <td>высокая</td>\n",
    "    <td>высокая</td>\n",
    "    <td>высокая</td>\n",
    "</tr>\n",
    "</table>\n"
   ]
  },
  {
   "cell_type": "code",
   "execution_count": 8,
   "metadata": {},
   "outputs": [
    {
     "data": {
      "application/vnd.jupyter.widget-view+json": {
       "model_id": "cd3285e343f2417b8d1e4e6ab329ce2a",
       "version_major": 2,
       "version_minor": 0
      },
      "text/plain": [
       "Button(description='Расчитать возможность  реализации j-ой угрозы безопасности информации', layout=Layout(widt…"
      ]
     },
     "metadata": {},
     "output_type": "display_data"
    },
    {
     "data": {
      "text/markdown": [
       "\n",
       "Вспомним, что \n",
       "* $Y_1$/$Y_{1П}$ = \"В\"\n",
       "* $Y_2$ = \"Н\"\n"
      ],
      "text/plain": [
       "<IPython.core.display.Markdown object>"
      ]
     },
     "metadata": {},
     "output_type": "display_data"
    },
    {
     "data": {
      "text/markdown": [
       "Из чего следует, что $Y_j$ = \"Н\""
      ],
      "text/plain": [
       "<IPython.core.display.Markdown object>"
      ]
     },
     "metadata": {},
     "output_type": "display_data"
    }
   ],
   "source": [
    "def threatPossibilitySecond(button):\n",
    "    clear_output()\n",
    "    display(threatPossibilitySecondButton)\n",
    "    \n",
    "    display(Markdown('''\n",
    "Вспомним, что \n",
    "* $Y_1$/$Y_{1П}$ = \"%s\"\n",
    "* $Y_2$ = \"%s\"\n",
    "''' % (defenceLevel, intruderLevel)))\n",
    "    \n",
    "    \n",
    "    threatPossibilityTable = {\n",
    "        ('В', 'Н'): 'Н', ('C', 'Н'): 'C',\n",
    "        ('В', 'C'): 'C'\n",
    "    }\n",
    "    \n",
    "    global threatPossibility\n",
    "    threatPossibility = threatPossibilityTable.get((defenceLevel, intruderLevel), 'В')\n",
    "    \n",
    "    display(Markdown('Из чего следует, что $Y_j$ = \"' + threatPossibility + '\"'))\n",
    "    \n",
    "threatPossibilitySecondButton = widgets.Button(\n",
    "    description='Расчитать возможность  реализации j-ой угрозы безопасности информации',\n",
    "    disabled=False,\n",
    "    button_style='', # 'success', 'info', 'warning', 'danger' or ''\n",
    "    tooltip='',\n",
    "    icon='',\n",
    "    layout=widgets.Layout(width='100%'),\n",
    ")\n",
    "threatPossibilitySecondButton.on_click(threatPossibilitySecond)\n",
    "display(threatPossibilitySecondButton)"
   ]
  },
  {
   "cell_type": "markdown",
   "metadata": {},
   "source": [
    "<a id='EvaluatingPossibleDamage'></a>\n",
    "## 2. Оценка степени возможного ущерба от реализации угрозы безопасности  информации\n",
    "\n",
    "Для оценки степени возможного ущерба от реализации угрозы безопасности  информации    определяются  возможный  результат  реализации  угрозы  безопасности информации в информационной системе, вид ущерба, к которому может  привести  реализация угрозы  безопасности  информации,  степень  последствий от реализации угрозы безопасности информации для каждого вида ущерба. В качестве результата/реализации угрозы безопасности информации рассматриваются непосредственное или опосредованное воздействие на конфиденциальность,  целостность,  доступность  информации,  содержащейся в  информационной системе.\n",
    "\n",
    "Степень возможного ущерба $X_j$ может принимать три градации: высокая, средняя и низкая.\n",
    "\n",
    "Степень возможного ущерба оценивается отдельно для конфиденциальности, целостности и доступности информации. Итоговая степень возможного ущерба устанавливается по наивысшим значениям степени возможного ущерба, определенного для конфиденциальности, целостности или доступности информации.\n",
    "\n",
    "$$X_j = \\max_i(X^i_j);\\ i = К, Ц, Д$$"
   ]
  },
  {
   "cell_type": "code",
   "execution_count": 9,
   "metadata": {},
   "outputs": [
    {
     "data": {
      "application/vnd.jupyter.widget-view+json": {
       "model_id": "bd1e863ec9944ea1ac50bc07d4266e45",
       "version_major": 2,
       "version_minor": 0
      },
      "text/plain": [
       "RadioButtons(description='$X_j$:', index=2, options=(('Высокая', 'В'), ('Средняя', 'C'), ('Низкая', 'Н')), val…"
      ]
     },
     "metadata": {},
     "output_type": "display_data"
    },
    {
     "data": {
      "text/markdown": [
       "$X_j$ = \"Н\""
      ],
      "text/plain": [
       "<IPython.core.display.Markdown object>"
      ]
     },
     "metadata": {},
     "output_type": "display_data"
    }
   ],
   "source": [
    "damageLevelButton = widgets.RadioButtons(\n",
    "    options=[('Высокая', 'В'), ('Средняя', 'C'), ('Низкая', 'Н')],\n",
    "    value=None,\n",
    "    description='$X_j$:',\n",
    "    disabled=False\n",
    ")\n",
    "\n",
    "def damageLevelButtonChange(change):\n",
    "    clear_output(wait=True)\n",
    "    display(damageLevelButton)\n",
    "    \n",
    "    global damageLevel\n",
    "    damageLevel = change['new']\n",
    "        \n",
    "    display(Markdown('$X_j$ = \"' + change['new'] + '\"'))\n",
    "    \n",
    "damageLevelButton.observe(damageLevelButtonChange, 'value')\n",
    "display(damageLevelButton)"
   ]
  },
  {
   "cell_type": "markdown",
   "metadata": {},
   "source": [
    "# 3. Определение актуальности угрозы безопасности информации.\n",
    "\n",
    "Решение  об актуальности угрозы  безопасности  информации $УБИ_j^А$ для информационной системы с заданными структурно-функциональными характеристиками и условиями функционирования принимается в соответствии с таблицей:"
   ]
  },
  {
   "cell_type": "code",
   "execution_count": 10,
   "metadata": {},
   "outputs": [
    {
     "data": {
      "text/html": [
       "<table>\n",
       "<tr>\n",
       "    <th rowspan=\"2\">Вероятность реализации</br>угрозы $Y_j$</th>\n",
       "    <th colspan=\"3\">Степень возможного ущерба $X_j$</th>\n",
       "</tr>\n",
       "<tr>\n",
       "    <th>низкая</th>\n",
       "    <th>средняя</th>\n",
       "    <th>высокая</th>\n",
       "</tr>\n",
       "<tr>\n",
       "    <th>низкая</th>\n",
       "    <td style=\"background-color:#80ff80\">не актуальная</td>\n",
       "    <td style=\"background-color:#80ff80\">не актуальная</td>\n",
       "    <td style=\"background-color:#ff8080\">актуальная</td>\n",
       "</tr>\n",
       "<tr>\n",
       "    <th>средняя</th>\n",
       "    <td style=\"background-color:#80ff80\">не актуальная</td>\n",
       "    <td style=\"background-color:#ff8080\">актуальная</td>\n",
       "    <td style=\"background-color:#ff8080\">актуальная</td>\n",
       "</tr>\n",
       "<tr>\n",
       "    <th>высокая</th>\n",
       "    <td style=\"background-color:#ff8080\">актуальная</td>\n",
       "    <td style=\"background-color:#ff8080\">актуальная</td>\n",
       "    <td style=\"background-color:#ff8080\">актуальная</td>\n",
       "</tr>\n",
       "</table>"
      ],
      "text/plain": [
       "<IPython.core.display.HTML object>"
      ]
     },
     "metadata": {},
     "output_type": "display_data"
    }
   ],
   "source": [
    "%%html\n",
    "<table>\n",
    "<tr>\n",
    "    <th rowspan=\"2\">Вероятность реализации</br>угрозы $Y_j$</th>\n",
    "    <th colspan=\"3\">Степень возможного ущерба $X_j$</th>\n",
    "</tr>\n",
    "<tr>\n",
    "    <th>низкая</th>\n",
    "    <th>средняя</th>\n",
    "    <th>высокая</th>\n",
    "</tr>\n",
    "<tr>\n",
    "    <th>низкая</th>\n",
    "    <td style=\"background-color:#80ff80\">не актуальная</td>\n",
    "    <td style=\"background-color:#80ff80\">не актуальная</td>\n",
    "    <td style=\"background-color:#ff8080\">актуальная</td>\n",
    "</tr>\n",
    "<tr>\n",
    "    <th>средняя</th>\n",
    "    <td style=\"background-color:#80ff80\">не актуальная</td>\n",
    "    <td style=\"background-color:#ff8080\">актуальная</td>\n",
    "    <td style=\"background-color:#ff8080\">актуальная</td>\n",
    "</tr>\n",
    "<tr>\n",
    "    <th>высокая</th>\n",
    "    <td style=\"background-color:#ff8080\">актуальная</td>\n",
    "    <td style=\"background-color:#ff8080\">актуальная</td>\n",
    "    <td style=\"background-color:#ff8080\">актуальная</td>\n",
    "</tr>\n",
    "</table>"
   ]
  },
  {
   "cell_type": "code",
   "execution_count": 11,
   "metadata": {},
   "outputs": [
    {
     "data": {
      "application/vnd.jupyter.widget-view+json": {
       "model_id": "88dde72ce4044b33ab54bbcadbc94aec",
       "version_major": 2,
       "version_minor": 0
      },
      "text/plain": [
       "Button(description='Расчитать актуальность угрозы информационной безопасности', layout=Layout(width='100%'), s…"
      ]
     },
     "metadata": {},
     "output_type": "display_data"
    },
    {
     "data": {
      "text/markdown": [
       "\n",
       "Вспомним, что \n",
       "* $Y_j$ = \"Н\"\n",
       "* $X_j$ = \"Н\"\n"
      ],
      "text/plain": [
       "<IPython.core.display.Markdown object>"
      ]
     },
     "metadata": {},
     "output_type": "display_data"
    },
    {
     "data": {
      "text/markdown": [
       "$УБИ_j^A$ = \"не актуальная\""
      ],
      "text/plain": [
       "<IPython.core.display.Markdown object>"
      ]
     },
     "metadata": {},
     "output_type": "display_data"
    }
   ],
   "source": [
    "def evaluateDamageLevel(button):\n",
    "    clear_output()\n",
    "    display(evaluateDamageLevelButton)\n",
    "    \n",
    "    display(Markdown('''\n",
    "Вспомним, что \n",
    "* $Y_j$ = \"%s\"\n",
    "* $X_j$ = \"%s\"\n",
    "''' % (threatPossibility, damageLevel)))\n",
    "    \n",
    "    actualiltyTable = {\n",
    "        ('Н', 'Н'): 'не актуальная', ('Н', 'C'): 'не актуальная',\n",
    "        ('C', 'Н'): 'не актуальная'\n",
    "    }\n",
    "    \n",
    "    actuality = actualiltyTable.get((threatPossibility, damageLevel), 'актуальная')\n",
    "    display(Markdown('$УБИ_j^A$ = \"' + actuality + '\"'))\n",
    "   \n",
    "    \n",
    "evaluateDamageLevelButton = widgets.Button(\n",
    "    description='Расчитать актуальность угрозы информационной безопасности',\n",
    "    disabled=False,\n",
    "    button_style='', # 'success', 'info', 'warning', 'danger' or ''\n",
    "    tooltip='',\n",
    "    icon='',\n",
    "    layout=widgets.Layout(width='100%'),\n",
    ")\n",
    "evaluateDamageLevelButton.on_click(evaluateDamageLevel)\n",
    "display(evaluateDamageLevelButton)"
   ]
  }
 ],
 "metadata": {
  "hide_input": false,
  "kernelspec": {
   "display_name": "Python 3",
   "language": "python",
   "name": "python3"
  },
  "language_info": {
   "codemirror_mode": {
    "name": "ipython",
    "version": 3
   },
   "file_extension": ".py",
   "mimetype": "text/x-python",
   "name": "python",
   "nbconvert_exporter": "python",
   "pygments_lexer": "ipython3",
   "version": "3.6.6"
  }
 },
 "nbformat": 4,
 "nbformat_minor": 2
}
