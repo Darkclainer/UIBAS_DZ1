{
 "cells": [
  {
   "cell_type": "code",
   "execution_count": 68,
   "metadata": {},
   "outputs": [],
   "source": [
    "from IPython.display import Markdown, Javascript, clear_output, display_markdown\n",
    "import ipywidgets as widgets\n",
    "\n",
    "threatPossibility = None\n",
    "defenceLevel = None"
   ]
  },
  {
   "cell_type": "markdown",
   "metadata": {},
   "source": [
    "# ОПРЕДЕЛЕНИЕ АКТУАЛЬНЫХ УГРОЗ БЕЗОПАСНОСТИ ИНФОРМАЦИИ В ИНФОРМАЦИОННОЙ СИСТЕМЕ\n",
    "В качестве  показателя  актуальности  угрозы  безопасности  информации $УБИ_j^А$ принимается  двухкомпонентный  вектор, первый компонент которого характеризует *вероятность реализации угрозы* $Р_j$ , а второй &mdash; *степень возможного ущерба* в случае ее реализации $Х_j$.\n",
    "\n",
    "$$УБИ_j^А = [P_j; X_j]$$\n",
    "\n",
    "где $Р_j$ определятся на основе анализа статистических данных о частоте реализации угроз безопасности информации, а $Х_j$ определяется  на  основе  оценок  степени  последствий  от  нарушения конфиденциальности, целостности или  доступности информации.\n",
    "\n",
    "При отсутствии статистических данных о реализации угроз безопасности информации (возникновении инцидентов безопасности) в информационной системе, актуальность угрозы без-опасности информации определяется на основе *оценки возможности реализации угрозы* безопасности информации $Y_j$\n",
    "\n",
    "$$УБИ_j^А = [Y_j; X_j]$$\n",
    "\n",
    "где $Y_j$ определятся на основе оценки уровня защищенности информационной системы и потенциала нарушителя, требуемого для реализации угрозы безопасности. "
   ]
  },
  {
   "cell_type": "markdown",
   "metadata": {},
   "source": [
    "## 1. Оценка вероятности (возможности) реализации угрозы безопасности информации\n",
    "\n",
    "Под вероятностью реализации угрозы безопасности информации понимается определяемый экспертным путем показатель, характеризующий, насколько вероятным является реализация $j$-ой угрозы безопасности информации в информационной  системе  с  заданными структурно-функциональными  характеристиками и  особенностями  функционирования. Вводятся  три  вербальные  градации этого показателя:\n",
    "* *низкая вероятность* &mdash; отсутствуют объективные предпосылки к реализации $j$-ой угрозы  безопасности  информации, отсутствует  требуемая  статистика  по фактам реализации $j$-ой угрозы безопасности информации (возникновения инцидентов безопасности), отсутствует мотивация для реализации $j$-ой угрозы, возможная частота реализации $j$-ой угрозы не превышает 1 раза в 5 лет;\n",
    "\n",
    "* *средняя вероятность* &mdash; существуют предпосылки к реализации $j$-ой угрозы безопасности информации, зафиксированы случаи реализации $j$-ой угрозы безопасности информации (возникновения инцидентов безопасности) или имеется иная  информация,  указывающая  на  возможность  реализации $j$-ой угрозы безопасности информации, существуют признаки наличия у нарушителя мотивации для реализации такой угрозы, возможная частота реализации $j$-ой угрозы не превышает 1 раза в год;\n",
    " \n",
    "* *высокая вероятность* &mdash; существуют объективные предпосылки к реализации $j$-ой угрозы безопасности информации, существует достоверная статистика реализации $j$-ой угрозы безопасности  информации (возникновения инцидентов безопасности) или имеется иная информация, указывающая на высокую возможность реализации $j$-ой угрозы безопасности информации, у нарушителя имеются мотивы для реализации $j$-ой угрозы, частота реализации $j$-ой угрозы чаще 1 раза в год."
   ]
  },
  {
   "cell_type": "code",
   "execution_count": 85,
   "metadata": {},
   "outputs": [
    {
     "data": {
      "application/vnd.jupyter.widget-view+json": {
       "model_id": "6b653c25cb624a1c9842a5a70e821965",
       "version_major": 2,
       "version_minor": 0
      },
      "text/plain": [
       "RadioButtons(description='$P_j$:', options=(('Высокая', 'В'), ('Средняя', 'C'), ('Низкая', 'Н'), ('Неясно', No…"
      ]
     },
     "metadata": {},
     "output_type": "display_data"
    },
    {
     "data": {
      "text/markdown": [
       "$P_j$ = \"В\""
      ],
      "text/plain": [
       "<IPython.core.display.Markdown object>"
      ]
     },
     "metadata": {},
     "output_type": "display_data"
    },
    {
     "data": {
      "text/markdown": [
       "[Перейти к оценки степени возможного ущерба.](#EvaluatingPossibleDamage)"
      ],
      "text/plain": [
       "<IPython.core.display.Markdown object>"
      ]
     },
     "metadata": {},
     "output_type": "display_data"
    }
   ],
   "source": [
    "threatPossibilityButton = widgets.RadioButtons(\n",
    "    options=[('Высокая', 'В'), ('Средняя', 'C'), ('Низкая', 'Н'), ('Неясно', None)],\n",
    "    value=None,\n",
    "    description='$P_j$:',\n",
    "    disabled=False\n",
    ")\n",
    "\n",
    "def threatPossibilityButtonChange(change):\n",
    "    clear_output(wait=True)\n",
    "    display(threatPossibilityButton)\n",
    "    if change['new'] == None:\n",
    "        display(Markdown('''В случае отсутствия требуемых данных для оценки вероятности реализации угрозы безопасности информации или наличия сомнени\n",
    "й в объективности экспертных оценок при определении вербальных градаций вероятности реализации  угроз  безопасности  информации\n",
    ", актуальность $j$-ой  угрозы безопасности информации определяется на основе оценки возможности ее реализации $Y_j$.\n",
    "\n",
    "[Перейти к оценки возможности реализации угрозы.](#ThreatPossibilityCalculation)'''))\n",
    "    else:\n",
    "        global threatPossibility\n",
    "        threatPossibility = change['new']\n",
    "        \n",
    "        display(Markdown('$P_j$ = \"' + change['new'] + '\"'))\n",
    "        display(Markdown('[Перейти к оценки степени возможного ущерба.](#EvaluatingPossibleDamage)'))\n",
    "    \n",
    "threatPossibilityButton.observe(threatPossibilityButtonChange, 'value')\n",
    "display(threatPossibilityButton)"
   ]
  },
  {
   "cell_type": "markdown",
   "metadata": {},
   "source": [
    "<a id='ThreatPossibilityCalculation'></a>\n",
    "## 1.1 Оценка возможности реализации угрозы $Y_j$.\n",
    "### 1.1.1 Оценка уровня защищённости $Y_1$.\n",
    "\n",
    "Возможность реализации $j$-ой угрозы безопасности информации $Y_j$ оценивается исходя из уровня защищенности информационной системы $Y_1$ и потенциала нарушителя $Y_2$, необходимого для реализации этой угрозы безопасности информации в информационной системе с заданными структурно-функциональными характеристиками и особенностями функционирования:\n",
    "\n",
    "$$Y_j = [Y_1; Y_2]$$"
   ]
  },
  {
   "cell_type": "code",
   "execution_count": 86,
   "metadata": {},
   "outputs": [
    {
     "data": {
      "application/vnd.jupyter.widget-view+json": {
       "model_id": "56c986bc4fa04c8a9dd867802a1d91af",
       "version_major": 2,
       "version_minor": 0
      },
      "text/plain": [
       "RadioButtons(description='$Y_1$:', options=(('Высокий', 'В'), ('Средний', 'C'), ('Низкий', 'Н'), ('Неясно', No…"
      ]
     },
     "metadata": {},
     "output_type": "display_data"
    },
    {
     "data": {
      "text/markdown": [
       "При определении угроз безопасности информации на этапе создания информационной системы в случае, \n",
       "когда меры защиты информации не реализованы или не проведена оценка их достаточности и эффективности, \n",
       "оценка возможности реализации $j$-ой угрозы безопасности информации $Y_j$ проводится относительно уровня \n",
       "проектной защищенности информационной системы $Y_{1П}$:\n",
       "\n",
       "$$Y_j = [Y_{1П}; Y_2]$$\n",
       "\n",
       "[Перейти к оценки уровня проектной защищённости.](#DefenceProjectLevel)"
      ],
      "text/plain": [
       "<IPython.core.display.Markdown object>"
      ]
     },
     "metadata": {},
     "output_type": "display_data"
    }
   ],
   "source": [
    "defenceLevelButton = widgets.RadioButtons(\n",
    "    options=[('Высокий', 'В'), ('Средний', 'C'), ('Низкий', 'Н'), ('Неясно',None)],\n",
    "    value=None,\n",
    "    description='$Y_1$:',\n",
    "    disabled=False\n",
    ")\n",
    "\n",
    "def defenceLevelButtonChange(change):\n",
    "    clear_output(wait=True)\n",
    "    display(defenceLevelButton)\n",
    "    if change['new'] == None:\n",
    "        display(Markdown('''При определении угроз безопасности информации на этапе создания информационной системы в случае, \n",
    "когда меры защиты информации не реализованы или не проведена оценка их достаточности и эффективности, \n",
    "оценка возможности реализации $j$-ой угрозы безопасности информации $Y_j$ проводится относительно уровня \n",
    "проектной защищенности информационной системы $Y_{1П}$:\n",
    "\n",
    "$$Y_j = [Y_{1П}; Y_2]$$\n",
    "\n",
    "[Перейти к оценки уровня проектной защищённости.](#DefenceProjectLevel)'''))\n",
    "    else:\n",
    "        global defenceLevel\n",
    "        defenceLevel = change['new']\n",
    "        \n",
    "        display(Markdown('$Y_1$ = \"' + change['new'] + '\"'))\n",
    "        display(Markdown('[Перейти к оценки потенциала нарушителя.](#EvaluatingIntruderLevel)'))\n",
    "    \n",
    "defenceLevelButton.observe(defenceLevelButtonChange, 'value')\n",
    "display(defenceLevelButton)"
   ]
  },
  {
   "cell_type": "markdown",
   "metadata": {},
   "source": [
    "<a id='DefenceProjectLevel'></a>\n",
    "### 1.1.1* Оценка уровня проектной защищённости $Y_{1П}$.\n",
    "\n",
    "Под уровнем проектной защищенности  $Y_{1П}$ понимается исходная защищенность информационной системы, обусловленная заданными при проектировании структурно-функциональными характеристиками и условиями ее функционирования. Уровень  проектной защищенности  $Y_{1П}$ определяется на основе анализа проектных структурно-функциональных характеристик:"
   ]
  },
  {
   "cell_type": "code",
   "execution_count": 113,
   "metadata": {},
   "outputs": [
    {
     "data": {
      "text/markdown": [
       "По структуре  информационной  системы:"
      ],
      "text/plain": [
       "<IPython.core.display.Markdown object>"
      ]
     },
     "metadata": {},
     "output_type": "display_data"
    },
    {
     "data": {
      "application/vnd.jupyter.widget-view+json": {
       "model_id": "9a7594c5c85e495687ffae462b6ec524",
       "version_major": 2,
       "version_minor": 0
      },
      "text/plain": [
       "RadioButtons(layout=Layout(width='90%'), options=(('автономное автоматизированное рабочее место', 'В'), ('лока…"
      ]
     },
     "metadata": {},
     "output_type": "display_data"
    },
    {
     "data": {
      "text/markdown": [
       "По используемым информационным технологиям:"
      ],
      "text/plain": [
       "<IPython.core.display.Markdown object>"
      ]
     },
     "metadata": {},
     "output_type": "display_data"
    },
    {
     "data": {
      "application/vnd.jupyter.widget-view+json": {
       "model_id": "d2a5b1984522484e9d12f8593fb02258",
       "version_major": 2,
       "version_minor": 0
      },
      "text/plain": [
       "RadioButtons(layout=Layout(width='90%'), options=(('системы на основе виртуализации', 'Н'), ('системы,  реализ…"
      ]
     },
     "metadata": {},
     "output_type": "display_data"
    },
    {
     "data": {
      "text/markdown": [
       "По архитектуре  информационной систем:"
      ],
      "text/plain": [
       "<IPython.core.display.Markdown object>"
      ]
     },
     "metadata": {},
     "output_type": "display_data"
    },
    {
     "data": {
      "application/vnd.jupyter.widget-view+json": {
       "model_id": "d5e2cf184c954ac8b4445fe815ab03da",
       "version_major": 2,
       "version_minor": 0
      },
      "text/plain": [
       "RadioButtons(layout=Layout(width='90%'), options=(('на основе «тонкого клиента»', 'В'), ('на основе однорангов…"
      ]
     },
     "metadata": {},
     "output_type": "display_data"
    },
    {
     "data": {
      "text/markdown": [
       "По наличию  (отсутствию)  взаимосвязей  с  иными  информационными  системами:"
      ],
      "text/plain": [
       "<IPython.core.display.Markdown object>"
      ]
     },
     "metadata": {},
     "output_type": "display_data"
    },
    {
     "data": {
      "application/vnd.jupyter.widget-view+json": {
       "model_id": "f2062efa85824be39c3ab2e690f7fe95",
       "version_major": 2,
       "version_minor": 0
      },
      "text/plain": [
       "RadioButtons(layout=Layout(width='90%'), options=(('взаимодействующая с системами', 'Н'), ('невзаимодействующа…"
      ]
     },
     "metadata": {},
     "output_type": "display_data"
    },
    {
     "data": {
      "text/markdown": [
       "По наличию  (отсутствию) взаимосвязей  (подключений) ксетям  связи общего пользования:"
      ],
      "text/plain": [
       "<IPython.core.display.Markdown object>"
      ]
     },
     "metadata": {},
     "output_type": "display_data"
    },
    {
     "data": {
      "application/vnd.jupyter.widget-view+json": {
       "model_id": "61334779bc9646f795a4f1da561ecced",
       "version_major": 2,
       "version_minor": 0
      },
      "text/plain": [
       "RadioButtons(layout=Layout(width='90%'), options=(('подключенная', 'Н'), ('подключенная через выдленную инфрас…"
      ]
     },
     "metadata": {},
     "output_type": "display_data"
    },
    {
     "data": {
      "text/markdown": [
       "По размещению технических средств:"
      ],
      "text/plain": [
       "<IPython.core.display.Markdown object>"
      ]
     },
     "metadata": {},
     "output_type": "display_data"
    },
    {
     "data": {
      "application/vnd.jupyter.widget-view+json": {
       "model_id": "5f84de5758e847d88ab997f6c2c87feb",
       "version_major": 2,
       "version_minor": 0
      },
      "text/plain": [
       "RadioButtons(layout=Layout(width='90%'), options=(('расположенные  в  пределах  одной контролируемой зоны', 'В…"
      ]
     },
     "metadata": {},
     "output_type": "display_data"
    },
    {
     "data": {
      "text/markdown": [
       "По режимам обработки информации в информационной системе:"
      ],
      "text/plain": [
       "<IPython.core.display.Markdown object>"
      ]
     },
     "metadata": {},
     "output_type": "display_data"
    },
    {
     "data": {
      "application/vnd.jupyter.widget-view+json": {
       "model_id": "723c1ab2c6aa4c95b74f1a62d0162e29",
       "version_major": 2,
       "version_minor": 0
      },
      "text/plain": [
       "RadioButtons(layout=Layout(width='90%'), options=(('многопользовательский', 'Н'), ('однопользовательский', 'В'…"
      ]
     },
     "metadata": {},
     "output_type": "display_data"
    },
    {
     "data": {
      "text/markdown": [
       "По режимам разграничения прав доступа:"
      ],
      "text/plain": [
       "<IPython.core.display.Markdown object>"
      ]
     },
     "metadata": {},
     "output_type": "display_data"
    },
    {
     "data": {
      "application/vnd.jupyter.widget-view+json": {
       "model_id": "1ba5bee5a043454c8c967e6b65b6cf43",
       "version_major": 2,
       "version_minor": 0
      },
      "text/plain": [
       "RadioButtons(layout=Layout(width='90%'), options=(('без разграничения', 'Н'), ('с разграничения', 'С')), value…"
      ]
     },
     "metadata": {},
     "output_type": "display_data"
    },
    {
     "data": {
      "text/markdown": [
       "По режимам разделения функций по управлению информационной системой:"
      ],
      "text/plain": [
       "<IPython.core.display.Markdown object>"
      ]
     },
     "metadata": {},
     "output_type": "display_data"
    },
    {
     "data": {
      "application/vnd.jupyter.widget-view+json": {
       "model_id": "0d8343fbfe394961a0112d2ba8b9dc1c",
       "version_major": 2,
       "version_minor": 0
      },
      "text/plain": [
       "RadioButtons(layout=Layout(width='90%'), options=(('без разделения', 'Н'), ('выделение рабочих  местдля  админ…"
      ]
     },
     "metadata": {},
     "output_type": "display_data"
    },
    {
     "data": {
      "text/markdown": [
       "По  подходам  к  сегментированию информационной системы:"
      ],
      "text/plain": [
       "<IPython.core.display.Markdown object>"
      ]
     },
     "metadata": {},
     "output_type": "display_data"
    },
    {
     "data": {
      "application/vnd.jupyter.widget-view+json": {
       "model_id": "fe3b7826619148649424d60da7c089da",
       "version_major": 2,
       "version_minor": 0
      },
      "text/plain": [
       "RadioButtons(layout=Layout(width='90%'), options=(('без сегментирования', 'Н'), ('с сегментирования', 'С')), v…"
      ]
     },
     "metadata": {},
     "output_type": "display_data"
    }
   ],
   "source": [
    "projectionDefenceDescription = [\n",
    "    {\n",
    "        'description': 'По структуре  информационной  системы:',\n",
    "        'options': [\n",
    "            ('автономное автоматизированное рабочее место', 'В'),\n",
    "            ('локальная информационная система', 'C'),\n",
    "            ('распределенная  информационная  система', 'Н')\n",
    "        ]\n",
    "    },\n",
    "    {\n",
    "        'description': 'По используемым информационным технологиям:',\n",
    "        'options': [\n",
    "            ('системы на основе виртуализации', 'Н'),\n",
    "            ('системы,  реализующие  «облачные вычисления»', 'Н'),\n",
    "            ('системы с мобильными устройствами', 'Н'),\n",
    "            ('системы с технологиями беспроводного доступа', 'Н'),\n",
    "            ('гридсистемы', 'Н'),\n",
    "            ('суперкомпьютерные системы', 'Н')\n",
    "        ]\n",
    "    },\n",
    "    {\n",
    "        'description': 'По архитектуре  информационной систем:',\n",
    "        'options': [\n",
    "            ('на основе «тонкого клиента»', 'В'),\n",
    "            ('на основе одноранговой сети', 'С'),\n",
    "            ('файл-серверные системы', 'Н'),\n",
    "            ('центры обработки данных', 'Н'),\n",
    "            ('с удалённым доступом пользователей', 'Н'),\n",
    "            ('разных типов операционных  систем(гетерогенность  среды)', 'С'),\n",
    "            ('использование кроссплатформеного ПО', 'С'),\n",
    "            ('использование выделенных каналов связи', 'С')\n",
    "        ]\n",
    "    },\n",
    "    {\n",
    "        'description': 'По наличию  (отсутствию)  взаимосвязей  с  иными  информационными  системами:',\n",
    "        'options': [\n",
    "            ('взаимодействующая с системами', 'Н'),\n",
    "            ('невзаимодействующая с системами', 'С'),\n",
    "        ]\n",
    "    },\n",
    "    {\n",
    "        'description': 'По наличию  (отсутствию) взаимосвязей  (подключений) ксетям  связи общего пользования:',\n",
    "        'options': [\n",
    "            ('подключенная', 'Н'),\n",
    "            ('подключенная через выдленную инфраструктуру', 'С'),\n",
    "            ('неподключённой', 'В')\n",
    "        ]\n",
    "    },\n",
    "    {\n",
    "        'description': 'По размещению технических средств:',\n",
    "        'options': [\n",
    "            ('расположенные  в  пределах  одной контролируемой зоны', 'В'),\n",
    "            ('расположенные в пределах нескольких контролируемых зон', 'С'),\n",
    "            ('расположенные вне контролируемой зоны', 'Н')\n",
    "        ]\n",
    "    },\n",
    "    {\n",
    "        'description': 'По режимам обработки информации в информационной системе:',\n",
    "        'options': [\n",
    "            ('многопользовательский', 'Н'),\n",
    "            ('однопользовательский', 'В')\n",
    "        ]\n",
    "    },\n",
    "    {\n",
    "        'description': 'По режимам разграничения прав доступа:',\n",
    "        'options': [\n",
    "            ('без разграничения', 'Н'),\n",
    "            ('с разграничения', 'С')\n",
    "        ]\n",
    "    },\n",
    "    {\n",
    "        'description': 'По режимам разделения функций по управлению информационной системой:',\n",
    "        'options': [\n",
    "            ('без разделения', 'Н'),\n",
    "            ('выделение рабочих  местдля  администрирования в отдельный домен', 'С'),\n",
    "            ('использование различных  сетевых адресов', 'С'),\n",
    "            ('использование  выделенных  каналов для администрирования', 'С')\n",
    "        ]\n",
    "    },\n",
    "    {\n",
    "        'description': 'По  подходам  к  сегментированию информационной системы:',\n",
    "        'options': [\n",
    "            ('без сегментирования', 'Н'),\n",
    "            ('с сегментирования', 'С')\n",
    "        ]\n",
    "    },\n",
    "]\n",
    "\n",
    "clear_output()\n",
    "projectionDefenceButtons = []\n",
    "for desc in projectionDefenceDescription:\n",
    "    display(Markdown(desc['description']))\n",
    "    newButton = widgets.RadioButtons(\n",
    "        options=desc['options'],\n",
    "        value=None,\n",
    "        description='',\n",
    "        disabled=False,\n",
    "        layout=widgets.Layout(width='90%')\n",
    "    )\n",
    "    display(newButton)\n",
    "    projectionDefenceButtons.append(newButton)"
   ]
  },
  {
   "cell_type": "code",
   "execution_count": null,
   "metadata": {},
   "outputs": [],
   "source": []
  },
  {
   "cell_type": "markdown",
   "metadata": {},
   "source": [
    "<a id='EvaluatingIntruderLevel'></a>\n",
    "### 1.1.2 Оценка потенциала нарушителя $Y_2$."
   ]
  },
  {
   "cell_type": "markdown",
   "metadata": {},
   "source": [
    "<a id='EvaluatingPossibleDamage'></a>\n",
    "## 2. Оценка степени возможного ущерба от реализации угрозы безопасности  информации"
   ]
  },
  {
   "cell_type": "code",
   "execution_count": 6,
   "metadata": {},
   "outputs": [
    {
     "name": "stdout",
     "output_type": "stream",
     "text": [
      "hahah\n"
     ]
    }
   ],
   "source": [
    "print('hahah')\n",
    "a = 2"
   ]
  },
  {
   "cell_type": "markdown",
   "metadata": {},
   "source": [
    "# Тут другой "
   ]
  },
  {
   "cell_type": "code",
   "execution_count": 7,
   "metadata": {},
   "outputs": [
    {
     "name": "stdout",
     "output_type": "stream",
     "text": [
      "baba\n"
     ]
    }
   ],
   "source": [
    "a = 3\n",
    "print('baba')"
   ]
  }
 ],
 "metadata": {
  "hide_input": true,
  "kernelspec": {
   "display_name": "Python 3",
   "language": "python",
   "name": "python3"
  },
  "language_info": {
   "codemirror_mode": {
    "name": "ipython",
    "version": 3
   },
   "file_extension": ".py",
   "mimetype": "text/x-python",
   "name": "python",
   "nbconvert_exporter": "python",
   "pygments_lexer": "ipython3",
   "version": "3.6.6"
  }
 },
 "nbformat": 4,
 "nbformat_minor": 2
}
